{
 "cells": [
  {
   "cell_type": "code",
   "execution_count": 0,
   "metadata": {
    "application/vnd.databricks.v1+cell": {
     "cellMetadata": {
      "byteLimit": 2048000,
      "rowLimit": 10000
     },
     "inputWidgets": {},
     "nuid": "f2949eeb-a8dd-4981-ae39-65d2a1acefbd",
     "showTitle": false,
     "tableResultSettingsMap": {},
     "title": ""
    }
   },
   "outputs": [],
   "source": [
    "#set path\n",
    "base_path = \"/Volumes/medisure_llh\"\n",
    "bronze_path = f\"{base_path}/bronze\"\n",
    "file_dir = f\"{bronze_path}/source_files\"\n",
    "silver_path = f\"{base_path}/silver\"\n",
    "gold_path = f\"{base_path}/gold\"\n",
    "chk_path = f\"{base_path}/checkpoint\"\n",
    "\n",
    "print(file_dir)\n",
    "print(bronze_path)\n",
    "print(silver_path)\n",
    "\n"
   ]
  },
  {
   "cell_type": "code",
   "execution_count": 0,
   "metadata": {
    "application/vnd.databricks.v1+cell": {
     "cellMetadata": {
      "byteLimit": 2048000,
      "rowLimit": 10000
     },
     "inputWidgets": {},
     "nuid": "c2a14b22-1295-45b9-8418-ff48bc6214ce",
     "showTitle": false,
     "tableResultSettingsMap": {},
     "title": ""
    }
   },
   "outputs": [],
   "source": [
    "\n",
    "#create member list table\n",
    "from pyspark.sql.functions import col, current_date, date_format\n",
    "\n",
    "spark.sql(f\"\"\"\n",
    "CREATE TABLE IF NOT EXISTS medisure_llh.silver.members_lst (\n",
    "         MemberID string\n",
    "        , Name string\n",
    "        , DOB date\n",
    "        , Gender string\n",
    "        , Region string\n",
    "        , PlanType string\n",
    "        , EffectiveDate date\n",
    "        , Email string\n",
    "        , IsActive double\n",
    "        , LastUpdated date\n",
    "        , RecordFlag STRING\n",
    "        , InsertDate DATE\n",
    "        , UpdateDate DATE        \n",
    "        )\n",
    "\"\"\")"
   ]
  },
  {
   "cell_type": "code",
   "execution_count": 0,
   "metadata": {
    "application/vnd.databricks.v1+cell": {
     "cellMetadata": {
      "byteLimit": 2048000,
      "implicitDf": true,
      "rowLimit": 10000
     },
     "inputWidgets": {},
     "nuid": "25927f7c-918b-4b5f-be41-c541dd881355",
     "showTitle": false,
     "tableResultSettingsMap": {},
     "title": ""
    }
   },
   "outputs": [],
   "source": [
    "%sql\n",
    "--create diagnosis dimension table\n",
    "\n",
    "create table if not exists medisure_llh.silver.diagnosis_dim (\n",
    "  code string,\n",
    "  description string,\n",
    "  insertdate date,\n",
    "  updatedate date\n",
    ")"
   ]
  },
  {
   "cell_type": "code",
   "execution_count": 0,
   "metadata": {
    "application/vnd.databricks.v1+cell": {
     "cellMetadata": {
      "byteLimit": 2048000,
      "implicitDf": true,
      "rowLimit": 10000
     },
     "inputWidgets": {},
     "nuid": "1d38a577-dd6c-42e1-918b-6bc9b7dee7ba",
     "showTitle": false,
     "tableResultSettingsMap": {},
     "title": ""
    }
   },
   "outputs": [],
   "source": [
    "%sql\n",
    "--table for claims' details\n",
    "\n",
    "create table if not exists medisure_llh.silver.claims_hdr (\n",
    "  ClaimID string,\n",
    "  MemberID string,\n",
    "  ProviderID string,\n",
    "  ClaimDate date,\n",
    "  ServiceDate date,\n",
    "  Amount double,\n",
    "  Status string,\n",
    "  ICD10Codes string,\n",
    "  CPTCodes string,\n",
    "  ClaimType string,\n",
    "  SubmissionChannel string,\n",
    "  Notes string,\n",
    "  IngestTimestamp timestamp,\n",
    "  AuditDtl  string,\n",
    "  insertdate date,\n",
    "  updatedate date\n",
    ")"
   ]
  },
  {
   "cell_type": "code",
   "execution_count": 0,
   "metadata": {
    "application/vnd.databricks.v1+cell": {
     "cellMetadata": {
      "byteLimit": 2048000,
      "implicitDf": true,
      "rowLimit": 10000
     },
     "inputWidgets": {},
     "nuid": "eabbeb73-ec17-4f8b-bbfb-c5afc482f801",
     "showTitle": false,
     "tableResultSettingsMap": {},
     "title": ""
    }
   },
   "outputs": [],
   "source": [
    "%sql\n",
    "--drop objects\n",
    "\n",
    "--drop table if exists medisure_llh.silver.claims_icd10_dtl\n",
    "--drop table if exists medisure_llh.silver.claims_cpt_dtl\n",
    "--drop table if exists medisure_llh.silver.claims_hdr\n",
    "drop table if exists medisure_llh.silver.providers_lst"
   ]
  },
  {
   "cell_type": "code",
   "execution_count": 0,
   "metadata": {
    "application/vnd.databricks.v1+cell": {
     "cellMetadata": {
      "byteLimit": 2048000,
      "implicitDf": true,
      "rowLimit": 10000
     },
     "inputWidgets": {},
     "nuid": "189961ab-d42a-43be-826e-800d2ddf1387",
     "showTitle": false,
     "tableResultSettingsMap": {},
     "title": ""
    }
   },
   "outputs": [],
   "source": [
    "%sql\n",
    "--detail table for claims' ICD10 code array\n",
    "create table if not exists medisure_llh.silver.claims_icd10_dtl (\n",
    "  ClaimID string,\n",
    "  MemberID string,\n",
    "  ProviderID string,\n",
    "  ClaimLineID int,\n",
    "  ICD10Code string,\n",
    "  auditflag string,\n",
    "  insertdate date,\n",
    "  updatedate date\n",
    ")"
   ]
  },
  {
   "cell_type": "code",
   "execution_count": 0,
   "metadata": {
    "application/vnd.databricks.v1+cell": {
     "cellMetadata": {
      "byteLimit": 2048000,
      "implicitDf": true,
      "rowLimit": 10000
     },
     "inputWidgets": {},
     "nuid": "4090416e-e91a-45b6-a270-88c5d0593ef7",
     "showTitle": false,
     "tableResultSettingsMap": {},
     "title": ""
    }
   },
   "outputs": [],
   "source": [
    "%sql\n",
    "--detail table for claims' cpt code array\n",
    "\n",
    "create table if not exists medisure_llh.silver.claims_cpt_dtl (\n",
    "  ClaimID string,\n",
    "  MemberID string,\n",
    "  ProviderID string,\n",
    "  ClaimLineID int,\n",
    "  CPTCode string,\n",
    "  auditflag string,\n",
    "  insertdate date,\n",
    "  updatedate date\n",
    ")"
   ]
  },
  {
   "cell_type": "code",
   "execution_count": 0,
   "metadata": {
    "application/vnd.databricks.v1+cell": {
     "cellMetadata": {
      "byteLimit": 2048000,
      "implicitDf": true,
      "rowLimit": 10000
     },
     "inputWidgets": {},
     "nuid": "3710e783-5825-4ad7-b573-27c46a83aaf8",
     "showTitle": false,
     "tableResultSettingsMap": {
      "0": {
       "dataGridStateBlob": "{\"version\":1,\"tableState\":{\"columnPinning\":{\"left\":[\"#row_number#\"],\"right\":[]},\"columnSizing\":{},\"columnVisibility\":{}},\"settings\":{\"columns\":{}},\"syncTimestamp\":1758079892118}",
       "filterBlob": null,
       "queryPlanFiltersBlob": null,
       "tableResultIndex": 0
      }
     },
     "title": ""
    }
   },
   "outputs": [],
   "source": [
    "%sql\n",
    "select *\n",
    "from medisure_llh.bronze.providers"
   ]
  },
  {
   "cell_type": "code",
   "execution_count": 0,
   "metadata": {
    "application/vnd.databricks.v1+cell": {
     "cellMetadata": {
      "byteLimit": 2048000,
      "implicitDf": true,
      "rowLimit": 10000
     },
     "inputWidgets": {},
     "nuid": "d75a6320-61e5-4c3e-b99b-e6002cbafd3e",
     "showTitle": false,
     "tableResultSettingsMap": {},
     "title": ""
    }
   },
   "outputs": [],
   "source": [
    "%sql\n",
    "--create provider list table\n",
    "CREATE TABLE IF NOT EXISTS medisure_llh.silver.providers_lst (\n",
    "         ProviderID string\n",
    "        , Name string\n",
    "        , Specialties string\n",
    "        , TIN string\n",
    "        , LastVerified date\n",
    "        , RecordFlag STRING\n",
    "        , InsertDate DATE\n",
    "        , UpdateDate DATE        \n",
    "        )"
   ]
  },
  {
   "cell_type": "code",
   "execution_count": 0,
   "metadata": {
    "application/vnd.databricks.v1+cell": {
     "cellMetadata": {
      "byteLimit": 2048000,
      "implicitDf": true,
      "rowLimit": 10000
     },
     "inputWidgets": {},
     "nuid": "ae4e020b-5953-47f9-abca-1fb0ec16b9ef",
     "showTitle": false,
     "tableResultSettingsMap": {},
     "title": ""
    }
   },
   "outputs": [],
   "source": [
    "%sql\n",
    "--create provider address table\n",
    "CREATE TABLE IF NOT EXISTS medisure_llh.silver.providers_addr (\n",
    "         ProviderID string\n",
    "        ,address_line_id int\n",
    "        ,address string\n",
    "        ,city string\n",
    "        ,state string\n",
    "        ,RecordFlag STRING \n",
    "        ,InsertDate DATE\n",
    "        ,UpdateDate DATE        \n",
    "        )"
   ]
  },
  {
   "cell_type": "code",
   "execution_count": 0,
   "metadata": {
    "application/vnd.databricks.v1+cell": {
     "cellMetadata": {
      "byteLimit": 2048000,
      "implicitDf": true,
      "rowLimit": 10000
     },
     "inputWidgets": {},
     "nuid": "5976dc93-5e92-4277-9ba1-86bd4ced8010",
     "showTitle": false,
     "tableResultSettingsMap": {},
     "title": ""
    }
   },
   "outputs": [],
   "source": [
    "%sql\n",
    "--create provider specialty list\n",
    "CREATE TABLE IF NOT EXISTS medisure_llh.silver.providers_spec_dtl (\n",
    "         ProviderID string\n",
    "        , spec_line_id int\n",
    "        ,Specialty string\n",
    "        ,RecordFlag STRING\n",
    "        ,InsertDate DATE       \n",
    "        ,UpdateDate DATE        \n",
    "        )"
   ]
  },
  {
   "cell_type": "code",
   "execution_count": 0,
   "metadata": {
    "application/vnd.databricks.v1+cell": {
     "cellMetadata": {
      "byteLimit": 2048000,
      "implicitDf": true,
      "rowLimit": 10000
     },
     "inputWidgets": {},
     "nuid": "8edbea81-9b23-4899-8844-75719c148b84",
     "showTitle": false,
     "tableResultSettingsMap": {},
     "title": ""
    }
   },
   "outputs": [],
   "source": [
    "%sql\n",
    "--create state lookup table for address validation\n",
    "\n",
    "CREATE TABLE medisure_llh.silver.state_lookup (\n",
    "    StateCode STRING,\n",
    "    StateName STRING\n",
    ");\n",
    "\n",
    "INSERT INTO medisure_llh.silver.state_lookup (StateCode, StateName) VALUES\n",
    "    ('AL', 'Alabama'),\n",
    "    ('AK', 'Alaska'),\n",
    "    ('AZ', 'Arizona'),\n",
    "    ('AR', 'Arkansas'),\n",
    "    ('CA', 'California'),\n",
    "    ('CO', 'Colorado'),\n",
    "    ('CT', 'Connecticut'),\n",
    "    ('DE', 'Delaware'),\n",
    "    ('FL', 'Florida'),\n",
    "    ('GA', 'Georgia'),\n",
    "    ('HI', 'Hawaii'),\n",
    "    ('ID', 'Idaho'),\n",
    "    ('IL', 'Illinois'),\n",
    "    ('IN', 'Indiana'),\n",
    "    ('IA', 'Iowa'),\n",
    "    ('KS', 'Kansas'),\n",
    "    ('KY', 'Kentucky'),\n",
    "    ('LA', 'Louisiana'),\n",
    "    ('ME', 'Maine'),\n",
    "    ('MD', 'Maryland'),\n",
    "    ('MA', 'Massachusetts'),\n",
    "    ('MI', 'Michigan'),\n",
    "    ('MN', 'Minnesota'),\n",
    "    ('MS', 'Mississippi'),\n",
    "    ('MO', 'Missouri'),\n",
    "    ('MT', 'Montana'),\n",
    "    ('NE', 'Nebraska'),\n",
    "    ('NV', 'Nevada'),\n",
    "    ('NH', 'New Hampshire'),\n",
    "    ('NJ', 'New Jersey'),\n",
    "    ('NM', 'New Mexico'),\n",
    "    ('NY', 'New York'),\n",
    "    ('NC', 'North Carolina'),\n",
    "    ('ND', 'North Dakota'),\n",
    "    ('OH', 'Ohio'),\n",
    "    ('OK', 'Oklahoma'),\n",
    "    ('OR', 'Oregon'),\n",
    "    ('PA', 'Pennsylvania'),\n",
    "    ('RI', 'Rhode Island'),\n",
    "    ('SC', 'South Carolina'),\n",
    "    ('SD', 'South Dakota'),\n",
    "    ('TN', 'Tennessee'),\n",
    "    ('TX', 'Texas'),\n",
    "    ('UT', 'Utah'),\n",
    "    ('VT', 'Vermont'),\n",
    "    ('VA', 'Virginia'),\n",
    "    ('WA', 'Washington'),\n",
    "    ('WV', 'West Virginia'),\n",
    "    ('WI', 'Wisconsin'),\n",
    "    ('WY', 'Wyoming');"
   ]
  },
  {
   "cell_type": "code",
   "execution_count": 0,
   "metadata": {
    "application/vnd.databricks.v1+cell": {
     "cellMetadata": {
      "byteLimit": 2048000,
      "implicitDf": true,
      "rowLimit": 10000
     },
     "inputWidgets": {},
     "nuid": "f85e2607-0b09-4020-90af-e953394f63e0",
     "showTitle": false,
     "tableResultSettingsMap": {},
     "title": ""
    }
   },
   "outputs": [],
   "source": [
    "%sql\n",
    "--create fraudulent claims audit report\n",
    "\n",
    "create table if not exists medisure_llh.gold.fraudulent_claims (\n",
    "  ClaimID string,\n",
    "  MemberID string,\n",
    "  ProviderID string,\n",
    "  ClaimDate date,\n",
    "  ServiceDate date,\n",
    "  Amount double,\n",
    "  AuditDtl  string,\n",
    "  insertdate date\n",
    ")"
   ]
  }
 ],
 "metadata": {
  "application/vnd.databricks.v1+notebook": {
   "computePreferences": null,
   "dashboards": [],
   "environmentMetadata": {
    "base_environment": "",
    "environment_version": "3"
   },
   "inputWidgetPreferences": null,
   "language": "python",
   "notebookMetadata": {
    "mostRecentlyExecutedCommandWithImplicitDF": {
     "commandId": 4763980301865125,
     "dataframes": [
      "_sqldf"
     ]
    },
    "pythonIndentUnit": 4
   },
   "notebookName": "00 Create Volumes and set source file directories",
   "widgets": {}
  },
  "language_info": {
   "name": "python"
  }
 },
 "nbformat": 4,
 "nbformat_minor": 0
}
