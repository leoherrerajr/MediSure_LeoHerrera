{
 "cells": [
  {
   "cell_type": "code",
   "execution_count": 0,
   "metadata": {
    "application/vnd.databricks.v1+cell": {
     "cellMetadata": {
      "byteLimit": 2048000,
      "rowLimit": 10000
     },
     "inputWidgets": {},
     "nuid": "425e9ff9-33e7-4622-a15a-7118c6ded007",
     "showTitle": false,
     "tableResultSettingsMap": {},
     "title": ""
    }
   },
   "outputs": [],
   "source": [
    "#set path\n",
    "base_path = \"/Volumes/medisure_llh\"\n",
    "bronze_path = f\"{base_path}/bronze\"\n",
    "file_dir = f\"{bronze_path}/source_files\"\n",
    "silver_path = f\"{base_path}/silver\"\n",
    "gold_path = f\"{base_path}/gold\"\n",
    "chk_path = f\"{base_path}/checkpoint\"\n",
    "\n",
    "print(file_dir)\n",
    "print(bronze_path)"
   ]
  },
  {
   "cell_type": "code",
   "execution_count": 0,
   "metadata": {
    "application/vnd.databricks.v1+cell": {
     "cellMetadata": {
      "byteLimit": 2048000,
      "rowLimit": 10000
     },
     "inputWidgets": {},
     "nuid": "86bdf1ea-098b-4ab9-8cb2-5f28b8c0fff7",
     "showTitle": false,
     "tableResultSettingsMap": {},
     "title": ""
    }
   },
   "outputs": [],
   "source": [
    "#set path\n",
    "base_path = \"/Volumes/medisure_llh\"\n",
    "bronze_path = f\"{base_path}/bronze\"\n",
    "\n",
    "#load data to bronze tables:\n",
    "\n",
    "from pyspark.sql.types import StructType, StructField, StringType, ArrayType, BooleanType, DateType, TimestampType, FloatType, DoubleType\n",
    "\n",
    "#define schema\n",
    "diagnosis_ref_schema = StructType([\n",
    "  StructField(\"Code\", StringType(), True),\n",
    "  StructField(\"Description\", StringType(), True)\n",
    "])\n",
    "\n",
    "members_schema = StructType([\n",
    "  StructField(\"MemberID\", StringType(), True),\n",
    "  StructField(\"Name\", StringType(), True),\n",
    "  StructField(\"DOB\", DateType(), True),\n",
    "  StructField(\"Gender\", StringType(), True),\n",
    "  StructField(\"Region\", StringType(), True),\n",
    "  StructField(\"PlanType\", StringType(), True),\n",
    "  StructField(\"EffectiveDate\", DateType(), True),\n",
    "  StructField(\"Email\", StringType(), True),\n",
    "  StructField(\"IsActive\", DoubleType(), True),\n",
    "  StructField(\"LastUpdated\", DateType(), True),\n",
    "])\n",
    "\n",
    "claims_schema = StructType([\n",
    "  StructField(\"ClaimID\", StringType(), True),\n",
    "  StructField(\"MemberID\", StringType(), True),\n",
    "  StructField(\"ProviderID\", StringType(), True),\n",
    "  StructField(\"ClaimDate\", DateType(), True),\n",
    "  StructField(\"ServiceDate\", DateType(), True),\n",
    "  StructField(\"Amount\", DoubleType(), True),\n",
    "  StructField(\"Status\", StringType(), True),\n",
    "  StructField(\"ICD10Codes\", StringType(), True),\n",
    "  StructField(\"CPTCodes\", StringType(), True),\n",
    "  StructField(\"ClaimType\", StringType(), True),\n",
    "  StructField(\"SubmissionChannel\", StringType(), True),\n",
    "  StructField(\"Notes\", StringType(), True),\n",
    "  StructField(\"IngestTimestamp\", TimestampType(), True)\n",
    "])\n",
    "\n",
    "providers_schema = StructType([\n",
    "  StructField(\"ProviderID\", StringType(), True),\n",
    "  StructField(\"Name\", StringType(), True),\n",
    "  StructField(\"Specialties\", ArrayType(StringType()), True),\n",
    "  StructField(\"Location\", ArrayType(\n",
    "    #StringType()\n",
    "    StructType([\n",
    "    StructField(\"Address\", StringType(), True),\n",
    "    StructField(\"City\", StringType(), True),\n",
    "    StructField(\"State\", StringType(), True)])\n",
    "                ), True),\n",
    "  StructField(\"IsActive\", BooleanType(), True),\n",
    "  StructField(\"TIN\", StringType(), True),\n",
    "  StructField(\"LastVerified\", StringType(), True)\n",
    "])\n",
    "\n",
    "diagnosis_df = (spark.read\n",
    "              .format(\"csv\")\n",
    "              .schema(diagnosis_ref_schema)\n",
    "              .option(\"header\",\"true\")\n",
    "              .option(\"timestampFormat\",\"yyyy-mm-dd[hh:mm:ss]\")\n",
    "              .load(f\"{file_dir}/diagnosis_ref.csv\")\n",
    "              .write\n",
    "              .format(\"delta\")\n",
    "              .mode(\"overwrite\")\n",
    "              .saveAsTable(\"medisure_llh.bronze.diagnosis\")\n",
    ")\n",
    "\n",
    "members_df = (spark.read\n",
    "              .format(\"csv\")\n",
    "              .schema(members_schema)\n",
    "              .option(\"header\",\"true\")\n",
    "              .option(\"timestampFormat\",\"yyyy-mm-dd[hh:mm:ss]\")\n",
    "              .load(f\"{file_dir}/members.csv\")\n",
    "              .write\n",
    "              .format(\"delta\")\n",
    "              .mode(\"overwrite\")\n",
    "              .saveAsTable(\"medisure_llh.bronze.members\")\n",
    "            )\n",
    " \n",
    "             \n",
    "claims_df = (spark.read\n",
    "              .format(\"csv\")\n",
    "              .schema(claims_schema)\n",
    "              .option(\"header\",\"true\")\n",
    "              .option(\"timestampFormat\",\"yyyy-MM-dd HH:mm:ss\")\n",
    "              .load(f\"{file_dir}/claims_batch.csv\")\n",
    "              .write\n",
    "              .format(\"delta\")\n",
    "              .mode(\"overwrite\")\n",
    "              .saveAsTable(\"medisure_llh.bronze.claims\")\n",
    "            )\n",
    "\n"
   ]
  },
  {
   "cell_type": "code",
   "execution_count": 0,
   "metadata": {
    "application/vnd.databricks.v1+cell": {
     "cellMetadata": {
      "byteLimit": 2048000,
      "rowLimit": 10000
     },
     "inputWidgets": {},
     "nuid": "ee6e83f5-3f91-4b58-a353-02f7b563e319",
     "showTitle": false,
     "tableResultSettingsMap": {},
     "title": ""
    }
   },
   "outputs": [],
   "source": [
    "#workaround for mismatch schema\n",
    "spark.sql(\"DROP TABLE IF EXISTS medisure_llh.bronze.providers\")\n",
    "\n",
    "providers_df = (spark.read\n",
    "              .format(\"json\")\n",
    "              .option(\"mode\",\"PERMISSIVE\")\n",
    "              .option(\"timestampFormat\",\"yyyy-mm-dd\")\n",
    "              #.schema(providers_schema)\n",
    "              .option(\"inferSchema\",\"true\")\n",
    "              .load(f\"{file_dir}/providers.json\")\n",
    "              )\n",
    "providers_df = providers_df.withColumn(\"LastVerified\", providers_df[\"LastVerified\"].cast(DateType()))\n",
    "\n",
    "providers_df.write.format(\"delta\").mode(\"overwrite\").saveAsTable(\"medisure_llh.bronze.providers\")\n"
   ]
  }
 ],
 "metadata": {
  "application/vnd.databricks.v1+notebook": {
   "computePreferences": null,
   "dashboards": [],
   "environmentMetadata": {
    "base_environment": "",
    "environment_version": "3"
   },
   "inputWidgetPreferences": null,
   "language": "python",
   "notebookMetadata": {
    "mostRecentlyExecutedCommandWithImplicitDF": {
     "commandId": 8465412950039354,
     "dataframes": [
      "_sqldf"
     ]
    },
    "pythonIndentUnit": 4
   },
   "notebookName": "01-Static File Batch Processing",
   "widgets": {}
  },
  "language_info": {
   "name": "python"
  }
 },
 "nbformat": 4,
 "nbformat_minor": 0
}
