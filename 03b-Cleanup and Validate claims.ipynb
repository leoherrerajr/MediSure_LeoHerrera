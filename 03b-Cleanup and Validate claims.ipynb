{
 "cells": [
  {
   "cell_type": "markdown",
   "metadata": {
    "application/vnd.databricks.v1+cell": {
     "cellMetadata": {},
     "inputWidgets": {},
     "nuid": "49523df9-80a0-494b-a56f-b419789cf3f4",
     "showTitle": false,
     "tableResultSettingsMap": {},
     "title": ""
    }
   },
   "source": [
    "Cleanup duplicate claims and validate its details for audit and review purposes."
   ]
  },
  {
   "cell_type": "code",
   "execution_count": 0,
   "metadata": {
    "application/vnd.databricks.v1+cell": {
     "cellMetadata": {
      "byteLimit": 2048000,
      "rowLimit": 10000
     },
     "inputWidgets": {},
     "nuid": "dd50d853-89ca-4566-a611-b08f382d46b9",
     "showTitle": false,
     "tableResultSettingsMap": {},
     "title": ""
    }
   },
   "outputs": [],
   "source": [
    "--check and delete for duplicate claims\n",
    "\n",
    "DELETE FROM medisure_llh.silver.claims_hdr\n",
    "WHERE ClaimID IN (\n",
    "  SELECT ClaimID\n",
    "  FROM (\n",
    "    SELECT\n",
    "      ClaimID,\n",
    "      MemberID,\n",
    "      ProviderID,\n",
    "      ROW_NUMBER() OVER (\n",
    "        PARTITION BY ClaimID, MemberID, ProviderID\n",
    "        ORDER BY ClaimID\n",
    "      ) AS rn\n",
    "    FROM medisure_llh.silver.claims_hdr\n",
    "  ) t\n",
    "  WHERE t.rn > 1\n",
    ")"
   ]
  },
  {
   "cell_type": "code",
   "execution_count": 0,
   "metadata": {
    "application/vnd.databricks.v1+cell": {
     "cellMetadata": {
      "byteLimit": 2048000,
      "rowLimit": 10000
     },
     "inputWidgets": {},
     "nuid": "94d8e14c-1afb-45a9-8826-a2395f1178ee",
     "showTitle": false,
     "tableResultSettingsMap": {},
     "title": ""
    }
   },
   "outputs": [],
   "source": [
    "--check and delete for incomplete key details\n",
    "delete \n",
    "from medisure_llh.silver.claims_hdr\n",
    "where ClaimID is null or MemberID is null or ProviderID is null;\n"
   ]
  },
  {
   "cell_type": "code",
   "execution_count": 0,
   "metadata": {
    "application/vnd.databricks.v1+cell": {
     "cellMetadata": {
      "byteLimit": 2048000,
      "rowLimit": 10000
     },
     "inputWidgets": {},
     "nuid": "42bc8fbc-0021-4b5b-bd7f-8b7736def660",
     "showTitle": false,
     "tableResultSettingsMap": {},
     "title": ""
    }
   },
   "outputs": [],
   "source": [
    "--audit claims for invalid providers\n",
    "\n",
    "update medisure_llh.silver.claims_hdr\n",
    "set AuditDtl = concat_ws(', ', AuditDtl, 'Invalid Provider')\n",
    "where ProviderID not in (select ProviderID \n",
    "                          from medisure_llh.silver.providers_lst\n",
    "                          where RecordFlag = 'OK')"
   ]
  },
  {
   "cell_type": "code",
   "execution_count": 0,
   "metadata": {
    "application/vnd.databricks.v1+cell": {
     "cellMetadata": {
      "byteLimit": 2048000,
      "rowLimit": 10000
     },
     "inputWidgets": {},
     "nuid": "cdc3f9f8-6b0f-4acb-aec5-8d61863792ca",
     "showTitle": false,
     "tableResultSettingsMap": {},
     "title": ""
    }
   },
   "outputs": [],
   "source": [
    "--validate claims' diagnosis\n",
    "\n",
    "update medisure_llh.silver.claims_icd10_dtl\n",
    "set auditflag = concat_ws(', ', auditflag, 'Invalid Diagnosis')\n",
    "where ICD10Code not in (select ICD10Code \n",
    "                          from medisure_llh.silver.diagnosis_dim src);\n",
    "\n",
    "update medisure_llh.silver.claims_hdr hdr\n",
    "set AuditDtl = concat_ws(', ', AuditDtl, 'Invalid Diagnosis')\n",
    "where ClaimID in (select ClaimID \n",
    "                    from medisure_llh.silver.claims_icd10_dtl dtl\n",
    "                    where auditflag like '%Invalid Diagnosis%'\n",
    "                      and dtl.claimid = hdr.claimid);\n"
   ]
  }
 ],
 "metadata": {
  "application/vnd.databricks.v1+notebook": {
   "computePreferences": null,
   "dashboards": [],
   "environmentMetadata": {
    "base_environment": "",
    "environment_version": "3"
   },
   "inputWidgetPreferences": null,
   "language": "sql",
   "notebookMetadata": {
    "pythonIndentUnit": 4
   },
   "notebookName": "03b-Cleanup and Validate claims",
   "widgets": {}
  },
  "language_info": {
   "name": "sql"
  }
 },
 "nbformat": 4,
 "nbformat_minor": 0
}
