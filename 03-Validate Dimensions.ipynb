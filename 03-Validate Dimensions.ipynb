{
 "cells": [
  {
   "cell_type": "markdown",
   "metadata": {
    "application/vnd.databricks.v1+cell": {
     "cellMetadata": {},
     "inputWidgets": {},
     "nuid": "d24e2294-c600-4e8b-b344-25c8a0359099",
     "showTitle": false,
     "tableResultSettingsMap": {},
     "title": ""
    }
   },
   "source": [
    "This notebook validates dimension tables (Members and Providers)"
   ]
  },
  {
   "cell_type": "code",
   "execution_count": 0,
   "metadata": {
    "application/vnd.databricks.v1+cell": {
     "cellMetadata": {
      "byteLimit": 2048000,
      "rowLimit": 10000
     },
     "inputWidgets": {},
     "nuid": "5623a368-d486-41a6-a3bf-39aee21ba717",
     "showTitle": false,
     "tableResultSettingsMap": {},
     "title": ""
    }
   },
   "outputs": [],
   "source": [
    "--find members with duplicate names/entries\n",
    "\n",
    "update medisure_llh.silver.members_lst\n",
    "set RecordFlag = 'DUPLICATE NAMES FOUND'\n",
    "where name in (\n",
    "            select name from (select Name, count(1)\n",
    "                              from medisure_llh.silver.members_lst\n",
    "                              group by Name\n",
    "                              having count(1) > 1));\n",
    "\n",
    "--update providers with no issues found\n",
    "update medisure_llh.silver.members_lst\n",
    "set RecordFlag = 'OK'\n",
    "where RecordFlag = '';\n",
    "\n",
    "select RecordFlag, count(1) rowcount\n",
    "from medisure_llh.silver.members_lst\n",
    "group by RecordFlag;"
   ]
  },
  {
   "cell_type": "code",
   "execution_count": 0,
   "metadata": {
    "application/vnd.databricks.v1+cell": {
     "cellMetadata": {
      "byteLimit": 2048000,
      "rowLimit": 10000
     },
     "inputWidgets": {},
     "nuid": "ada79599-0b17-499c-9912-71f348ee4010",
     "showTitle": false,
     "tableResultSettingsMap": {},
     "title": ""
    }
   },
   "outputs": [],
   "source": [
    "update medisure_llh.silver.providers_addr\n",
    "set RecordFlag = 'INVALID STATE'\n",
    "where state not in (select state from medisure_llh.silver.state_lookup);\n",
    "\n",
    "update medisure_llh.silver.providers_addr\n",
    "set RecordFlag = 'OK'\n",
    "where RecordFlag = 'NEW';\n",
    "\n",
    "\n",
    "select RecordFlag, count(1)\n",
    "from medisure_llh.silver.providers_addr\n",
    "group by RecordFlag;"
   ]
  },
  {
   "cell_type": "code",
   "execution_count": 0,
   "metadata": {
    "application/vnd.databricks.v1+cell": {
     "cellMetadata": {
      "byteLimit": 2048000,
      "rowLimit": 10000
     },
     "inputWidgets": {},
     "nuid": "a2032a64-fa2a-4755-b356-a2dfea179a85",
     "showTitle": false,
     "tableResultSettingsMap": {},
     "title": ""
    }
   },
   "outputs": [],
   "source": [
    "--update providers with duplicate entries\n",
    "\n",
    "update medisure_llh.silver.providers_lst\n",
    "set RecordFlag = 'DUPLICATE NAMES FOUND'\n",
    "where name in (\n",
    "            select name from (select Name, count(1)\n",
    "                              from medisure_llh.silver.providers_lst\n",
    "                              group by Name\n",
    "                              having count(1) > 1)) ;\n",
    "\n",
    "--flag providers with invalid address\n",
    "update medisure_llh.silver.providers_lst tgt\n",
    "set RecordFlag = concat_ws(', ', RecordFlag, 'INVALID ADDRESS')\n",
    "where providerid in (\n",
    "            select providerid from medisure_llh.silver.providers_addr src\n",
    "            where src.ProviderID = tgt.ProviderID\n",
    "              and src.RecordFlag = 'INVALID STATE');\n",
    "\n",
    "--update providers with no issues found\n",
    "update medisure_llh.silver.providers_lst\n",
    "set RecordFlag = 'OK'\n",
    "where RecordFlag = 'NEW';\n",
    "\n",
    "select RecordFlag, count(1) rowcount\n",
    "from medisure_llh.silver.providers_lst\n",
    "group by RecordFlag;"
   ]
  }
 ],
 "metadata": {
  "application/vnd.databricks.v1+notebook": {
   "computePreferences": null,
   "dashboards": [],
   "environmentMetadata": {
    "base_environment": "",
    "environment_version": "3"
   },
   "inputWidgetPreferences": null,
   "language": "sql",
   "notebookMetadata": {
    "pythonIndentUnit": 4
   },
   "notebookName": "03-Validate Dimensions",
   "widgets": {}
  },
  "language_info": {
   "name": "sql"
  }
 },
 "nbformat": 4,
 "nbformat_minor": 0
}
