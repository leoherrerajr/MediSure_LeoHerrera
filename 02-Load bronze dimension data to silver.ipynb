{
 "cells": [
  {
   "cell_type": "code",
   "execution_count": 0,
   "metadata": {
    "application/vnd.databricks.v1+cell": {
     "cellMetadata": {
      "byteLimit": 2048000,
      "rowLimit": 10000
     },
     "inputWidgets": {},
     "nuid": "8bc9e984-c6c0-4b66-bfd9-c69c4edfc545",
     "showTitle": false,
     "tableResultSettingsMap": {},
     "title": ""
    }
   },
   "outputs": [],
   "source": [
    "--refresh Diagnosis (ICD10) data from bronze layer\n",
    "begin\n",
    "-- Delete old entries\n",
    "DELETE FROM medisure_llh.silver.diagnosis_dim\n",
    "WHERE EXISTS (\n",
    "  SELECT 1\n",
    "  FROM medisure_llh.bronze.diagnosis src\n",
    "  WHERE medisure_llh.silver.diagnosis_dim.code = src.code\n",
    ");\n",
    "\n",
    "-- Insert new entries\n",
    "INSERT INTO medisure_llh.silver.diagnosis_dim\n",
    "SELECT code,\n",
    "       description,\n",
    "       current_date() AS insertdate,\n",
    "       current_date() AS updatedate\n",
    "FROM medisure_llh.bronze.diagnosis;\n",
    "end"
   ]
  },
  {
   "cell_type": "code",
   "execution_count": 0,
   "metadata": {
    "application/vnd.databricks.v1+cell": {
     "cellMetadata": {
      "byteLimit": 2048000,
      "rowLimit": 10000
     },
     "inputWidgets": {},
     "nuid": "e0e4a4b3-b651-41a0-8ea7-cc42e40a8a7c",
     "showTitle": false,
     "tableResultSettingsMap": {},
     "title": ""
    }
   },
   "outputs": [],
   "source": [
    "--load new member data from file to list table:\n",
    "\n",
    "merge into medisure_llh.silver.members_lst tgt\n",
    "using (\n",
    "  select \n",
    "    MemberID,\n",
    "    Name,\n",
    "    DOB,\n",
    "    Gender,\n",
    "    Region,\n",
    "    PlanType,\n",
    "    EffectiveDate,\n",
    "    Email,\n",
    "    IsActive,\n",
    "    LastUpdated\n",
    "  from medisure_llh.bronze.members\n",
    ") src\n",
    "on tgt.MemberID = src.MemberID\n",
    "when matched then update set\n",
    "  tgt.Name = src.Name,\n",
    "  tgt.DOB = src.DOB,\n",
    "  tgt.Gender = src.Gender,\n",
    "  tgt.Region = src.Region,\n",
    "  tgt.PlanType = src.PlanType,\n",
    "  tgt.EffectiveDate = src.EffectiveDate,\n",
    "  tgt.Email = src.Email,\n",
    "  tgt.IsActive = src.IsActive,\n",
    "  tgt.LastUpdated = src.LastUpdated,\n",
    "  tgt.UpdateDate = current_date()\n",
    "when not matched then insert (\n",
    "  MemberID,\n",
    "  Name,\n",
    "  DOB,\n",
    "  Gender,\n",
    "  Region,\n",
    "  PlanType,\n",
    "  EffectiveDate,\n",
    "  Email,\n",
    "  IsActive,\n",
    "  LastUpdated,\n",
    "  RecordFlag,\n",
    "  InsertDate,\n",
    "  UpdateDate\n",
    ") values (\n",
    "  src.MemberID,\n",
    "  src.Name,\n",
    "  src.DOB,\n",
    "  src.Gender,\n",
    "  src.Region,\n",
    "  src.PlanType,\n",
    "  src.EffectiveDate,\n",
    "  src.Email,\n",
    "  src.IsActive,\n",
    "  src.LastUpdated,\n",
    "  '',\n",
    "  current_date(),\n",
    "  current_date()\n",
    ")"
   ]
  },
  {
   "cell_type": "code",
   "execution_count": 0,
   "metadata": {
    "application/vnd.databricks.v1+cell": {
     "cellMetadata": {},
     "inputWidgets": {},
     "nuid": "67eefc26-57b2-4f16-a2ee-fab05a5d72de",
     "showTitle": false,
     "tableResultSettingsMap": {},
     "title": ""
    }
   },
   "outputs": [],
   "source": [
    "--refresh provider main data\n",
    "\n",
    "merge into medisure_llh.silver.providers_lst tgt\n",
    "using (select providerid\n",
    "            , name\n",
    "            , Specialties\n",
    "            , tin\n",
    "            , lastverified\n",
    "            , 'NEW' as RecordFlag\n",
    "            , current_date() as insertdate\n",
    "            , current_date() as updatedate\n",
    "        from medisure_llh.bronze.providers) src\n",
    "on tgt.ProviderID = src.ProviderID\n",
    "when matched then update \n",
    "set tgt.Name = src.Name\n",
    ", tgt.Specialties = src.Specialties\n",
    ", tgt.TIN = src.TIN\n",
    ", tgt.LastVerified = src.LastVerified\n",
    ", tgt.RecordFlag = 'UPDATED'\n",
    ", tgt.updatedate = current_date()\n",
    "when not matched then insert (ProviderID\n",
    "            , Name\n",
    "            , Specialties\n",
    "            , TIN\n",
    "            , LastVerified\n",
    "            , RecordFlag\n",
    "            , insertdate\n",
    "            , updatedate) \n",
    "     values (src.ProviderID\n",
    "            , src.Name\n",
    "            , src.Specialties\n",
    "            , src.TIN\n",
    "            , src.LastVerified\n",
    "            , src.RecordFlag\n",
    "            , src.insertdate\n",
    "            , src.updatedate)"
   ]
  },
  {
   "cell_type": "code",
   "execution_count": 0,
   "metadata": {
    "application/vnd.databricks.v1+cell": {
     "cellMetadata": {},
     "inputWidgets": {},
     "nuid": "1819b9ae-ffba-4970-b4db-01340d11bb96",
     "showTitle": false,
     "tableResultSettingsMap": {},
     "title": ""
    }
   },
   "outputs": [],
   "source": [
    "--refresh provider specialty details\n",
    "\n",
    "begin\n",
    "  --delete existing provider's specialty\n",
    "  delete from medisure_llh.silver.providers_spec_dtl tgt\n",
    "  where exists (select 1\n",
    "                from medisure_llh.bronze.providers src\n",
    "                where tgt.ProviderID = src.ProviderID);\n",
    "\n",
    "  insert into medisure_llh.silver.providers_spec_dtl\n",
    "  select ProviderID\n",
    "  , row_number() over(partition by ProviderID order by ProviderID) as spc_line_id\n",
    "  , explode(Specialties)\n",
    "  , 'NEW' as RecordFlag\n",
    "  , current_date() as insertdate\n",
    "  , current_date() as updatedate\n",
    "  from medisure_llh.bronze.providers;\n",
    "end\n"
   ]
  },
  {
   "cell_type": "code",
   "execution_count": 0,
   "metadata": {
    "application/vnd.databricks.v1+cell": {
     "cellMetadata": {},
     "inputWidgets": {},
     "nuid": "0fd8b9f1-80d4-41bf-bd90-2b5960818d1d",
     "showTitle": false,
     "tableResultSettingsMap": {},
     "title": ""
    }
   },
   "outputs": [],
   "source": [
    "--refresh locations details\n",
    "\n",
    "begin\n",
    "  --delete existing provider's location\n",
    "  delete from medisure_llh.silver.providers_addr tgt\n",
    "  where exists (select 1\n",
    "                from medisure_llh.bronze.providers src\n",
    "                where tgt.ProviderID = src.ProviderID);\n",
    "\n",
    "  insert into medisure_llh.silver.providers_addr\n",
    "  select providerid\n",
    "      , address_line_id\n",
    "      , address\n",
    "      , city\n",
    "      , state\n",
    "      , 'NEW' as RecordFlag\n",
    "      , current_date() as insertdate\n",
    "      , current_date() as updatedate\n",
    "  from (select providerid\n",
    "            , row_number() over(partition by ProviderID order by ProviderID) address_line_id\n",
    "            , explode(locations) as location_raw\n",
    "            , location_raw.address as address\n",
    "            , location_raw.city as city\n",
    "          , location_raw.state as state\n",
    "      from medisure_llh.bronze.providers);\n",
    "end"
   ]
  }
 ],
 "metadata": {
  "application/vnd.databricks.v1+notebook": {
   "computePreferences": null,
   "dashboards": [],
   "environmentMetadata": {
    "base_environment": "",
    "environment_version": "3"
   },
   "inputWidgetPreferences": null,
   "language": "sql",
   "notebookMetadata": {
    "pythonIndentUnit": 4
   },
   "notebookName": "02-Load bronze dimension data to silver",
   "widgets": {}
  },
  "language_info": {
   "name": "sql"
  }
 },
 "nbformat": 4,
 "nbformat_minor": 0
}
