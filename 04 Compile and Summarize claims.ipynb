{
 "cells": [
  {
   "cell_type": "markdown",
   "metadata": {
    "application/vnd.databricks.v1+cell": {
     "cellMetadata": {},
     "inputWidgets": {},
     "nuid": "a1b78551-dcc1-48e6-b2f4-fbb601c95eb9",
     "showTitle": false,
     "tableResultSettingsMap": {},
     "title": ""
    }
   },
   "source": [
    "Report as  Fraudulent claims for records found with invlid members, providers, and diagnosis "
   ]
  },
  {
   "cell_type": "code",
   "execution_count": 0,
   "metadata": {
    "application/vnd.databricks.v1+cell": {
     "cellMetadata": {
      "byteLimit": 2048000,
      "rowLimit": 10000
     },
     "inputWidgets": {},
     "nuid": "24a7ef51-a508-49e4-904c-18fa1699614c",
     "showTitle": false,
     "tableResultSettingsMap": {},
     "title": ""
    }
   },
   "outputs": [],
   "source": [
    "truncate table medisure_llh.gold.fraudulent_claims;\n",
    "\n",
    "Insert into medisure_llh.gold.fraudulent_claims\n",
    "(select ClaimID\n",
    ", MemberID\n",
    ", ProviderID\n",
    ", ClaimDate\n",
    ", ServiceDate\n",
    ", Amount\n",
    ", AuditDtl  \n",
    ", current_date() as insertdate\n",
    "from medisure_llh.silver.claims_hdr\n",
    "where AuditDtl like '%INVALID%')"
   ]
  },
  {
   "cell_type": "code",
   "execution_count": 0,
   "metadata": {
    "application/vnd.databricks.v1+cell": {
     "cellMetadata": {},
     "inputWidgets": {},
     "nuid": "5f38f034-4a3e-4736-90ec-72a60741715d",
     "showTitle": false,
     "tableResultSettingsMap": {},
     "title": ""
    }
   },
   "outputs": [],
   "source": []
  }
 ],
 "metadata": {
  "application/vnd.databricks.v1+notebook": {
   "computePreferences": null,
   "dashboards": [],
   "environmentMetadata": {
    "base_environment": "",
    "environment_version": "3"
   },
   "inputWidgetPreferences": null,
   "language": "sql",
   "notebookMetadata": {
    "pythonIndentUnit": 4
   },
   "notebookName": "04 Compile and Summarize claims",
   "widgets": {}
  },
  "language_info": {
   "name": "sql"
  }
 },
 "nbformat": 4,
 "nbformat_minor": 0
}
