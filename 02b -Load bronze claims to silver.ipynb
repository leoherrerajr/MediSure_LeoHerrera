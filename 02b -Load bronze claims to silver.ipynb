{
 "cells": [
  {
   "cell_type": "markdown",
   "metadata": {
    "application/vnd.databricks.v1+cell": {
     "cellMetadata": {},
     "inputWidgets": {},
     "nuid": "5511bdef-994a-48e5-aea0-93358f1730b7",
     "showTitle": false,
     "tableResultSettingsMap": {},
     "title": ""
    }
   },
   "source": [
    "Loads new claims and their respective diagnosis and treatment details to their respective tables."
   ]
  },
  {
   "cell_type": "code",
   "execution_count": 0,
   "metadata": {
    "application/vnd.databricks.v1+cell": {
     "cellMetadata": {
      "byteLimit": 2048000,
      "rowLimit": 10000
     },
     "inputWidgets": {},
     "nuid": "3d699311-318f-43b4-a2ca-16dae65d3341",
     "showTitle": false,
     "tableResultSettingsMap": {},
     "title": ""
    }
   },
   "outputs": [],
   "source": [
    "--load claims from bronze to header table in silver\n",
    "\n",
    "MERGE INTO medisure_llh.silver.claims_hdr AS tgt\n",
    "USING medisure_llh.bronze.claims AS src\n",
    "ON tgt.ClaimID = src.ClaimID\n",
    " and tgt.memberid = src.memberid\n",
    "WHEN MATCHED THEN\n",
    "  UPDATE SET\n",
    "    tgt.ProviderID = src.ProviderID,\n",
    "    tgt.ClaimDate = src.ClaimDate,\n",
    "    tgt.ServiceDate = src.ServiceDate,\n",
    "    tgt.Amount = src.Amount,\n",
    "    tgt.Status = src.Status,\n",
    "    tgt.ICD10Codes = src.ICD10Codes,\n",
    "    tgt.CPTCodes = src.CPTCodes,\n",
    "    tgt.ClaimType = src.ClaimType,\n",
    "    tgt.SubmissionChannel = src.SubmissionChannel,\n",
    "    tgt.Notes = src.Notes,\n",
    "    tgt.IngestTimestamp = src.IngestTimestamp,\n",
    "    tgt.updatedate = current_date()\n",
    "WHEN NOT MATCHED THEN\n",
    "  INSERT (\n",
    "    ClaimID,\n",
    "    MemberID,\n",
    "    ProviderID,\n",
    "    ClaimDate,\n",
    "    ServiceDate,\n",
    "    Amount,\n",
    "    Status,\n",
    "    ICD10Codes,\n",
    "    CPTCodes,\n",
    "    ClaimType,\n",
    "    SubmissionChannel,\n",
    "    Notes,\n",
    "    IngestTimestamp,\n",
    "    insertdate,\n",
    "    updatedate\n",
    "  )\n",
    "  VALUES (\n",
    "    src.ClaimID,\n",
    "    src.MemberID,\n",
    "    src.ProviderID,\n",
    "    src.ClaimDate,\n",
    "    src.ServiceDate,\n",
    "    src.Amount,\n",
    "    src.Status,\n",
    "    src.ICD10Codes,\n",
    "    src.CPTCodes,\n",
    "    src.ClaimType,\n",
    "    src.SubmissionChannel,\n",
    "    src.Notes,\n",
    "    src.IngestTimestamp,\n",
    "    current_date(),\n",
    "    current_date()\n",
    "  )"
   ]
  },
  {
   "cell_type": "code",
   "execution_count": 0,
   "metadata": {
    "application/vnd.databricks.v1+cell": {
     "cellMetadata": {
      "byteLimit": 2048000,
      "rowLimit": 10000
     },
     "inputWidgets": {},
     "nuid": "f5bc3e39-565b-47ac-95ae-3015409706dc",
     "showTitle": false,
     "tableResultSettingsMap": {},
     "title": ""
    }
   },
   "outputs": [],
   "source": [
    "--explode ICD10 codes array to detail table for audit claim analysis\n",
    "\n",
    "merge into medisure_llh.silver.claims_icd10_dtl tgt\n",
    "using (select claimid\n",
    "            , MemberID\n",
    "            , ProviderID\n",
    "            , row_number() over(partition by claimid order by claimid) as claimlineID\n",
    "            , explode(split(ICD10Codes,';')) as ICD10Code            \n",
    "        from medisure_llh.bronze.claims)src\n",
    "on tgt.claimid = src.claimid\n",
    "  and tgt.claimlineID = src.claimlineID\n",
    "  and tgt.memberID = src.memberID\n",
    "  and tgt.ProviderID = src.ProviderID\n",
    "when matched then update \n",
    "set tgt.ICD10Code = src.ICD10Code\n",
    ", tgt.auditflag = 'UPDATE'\n",
    ", tgt.updatedate = current_date()\n",
    "when not matched then insert (claimid\n",
    "            , memberID\n",
    "            , ProviderID\n",
    "            , claimlineID\n",
    "            , ICD10Code\n",
    "            , auditflag\n",
    "            , insertdate\n",
    "            , updatedate) \n",
    "     values (src.claimid\n",
    "            , src.memberID\n",
    "            , src.ProviderID\n",
    "            , src.claimlineID\n",
    "            , src.ICD10Code\n",
    "            , 'NEW'\n",
    "            , current_date()\n",
    "            , current_date())\n"
   ]
  },
  {
   "cell_type": "code",
   "execution_count": 0,
   "metadata": {
    "application/vnd.databricks.v1+cell": {
     "cellMetadata": {
      "byteLimit": 2048000,
      "rowLimit": 10000
     },
     "inputWidgets": {},
     "nuid": "9dc7dc3b-6ade-4122-b2d0-7e25c29b0616",
     "showTitle": false,
     "tableResultSettingsMap": {},
     "title": ""
    }
   },
   "outputs": [],
   "source": [
    "--load exploded CPT codes to detail table for audit claim analysis\n",
    "\n",
    "merge into medisure_llh.silver.claims_cpt_dtl tgt\n",
    "using (select claimid\n",
    "              , MemberID\n",
    "              , ProviderID\n",
    "              , row_number() over(partition by claimid order by claimid) as claimlineID\n",
    "              , explode(split(CPTCodes,';')) as CPTCode            \n",
    "        from medisure_llh.bronze.claims)src\n",
    "on tgt.claimid = src.claimid\n",
    "and tgt.claimlineID = src.claimlineID\n",
    "and tgt.memberid = src.memberid\n",
    "and tgt.ProviderID = src.ProviderID\n",
    "when matched then update \n",
    "set tgt.CPTCode = src.CPTCode\n",
    ", tgt.auditflag = 'UPDATE'\n",
    ", tgt.updatedate = current_date()\n",
    "when not matched then insert (claimid\n",
    "              , memberID\n",
    "              , ProviderID\n",
    "            , claimlineID \n",
    "            , CPTCode\n",
    "            , auditflag\n",
    "            , insertdate\n",
    "            , updatedate) \n",
    "     values (src.claimid\n",
    "              , src.memberID\n",
    "              , src.ProviderID\n",
    "            , src.claimlineID\n",
    "            , src.CPTCode\n",
    "            , 'NEW'\n",
    "            , current_date() \n",
    "            , current_date())"
   ]
  }
 ],
 "metadata": {
  "application/vnd.databricks.v1+notebook": {
   "computePreferences": null,
   "dashboards": [],
   "environmentMetadata": {
    "base_environment": "",
    "environment_version": "3"
   },
   "inputWidgetPreferences": null,
   "language": "sql",
   "notebookMetadata": {
    "pythonIndentUnit": 4
   },
   "notebookName": "02b -Load bronze claims to silver",
   "widgets": {}
  },
  "language_info": {
   "name": "sql"
  }
 },
 "nbformat": 4,
 "nbformat_minor": 0
}
